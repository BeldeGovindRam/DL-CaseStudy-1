{
 "cells": [
  {
   "cell_type": "code",
   "execution_count": 1,
   "id": "fa0f681a",
   "metadata": {},
   "outputs": [
    {
     "name": "stdout",
     "output_type": "stream",
     "text": [
      "                review_id                 user_id             business_id  \\\n",
      "0  KU_O5udG6zpxOg-VcAEodg  mh_-eMZ6K5RLWhZyISBhwA  XQfwVwDr-v0ZS3_CbbE5Xw   \n",
      "1  BiTunyQ73aT9WBnpR9DZGw  OyoGAe7OKpv6SyGZT5g77Q  7ATYjTIgM3jUlt4UM3IypQ   \n",
      "2  AqPFMleE6RsU23_auESxiA  _7bHUi9Uuf5__HHc_Q8guQ  kxX2SOes4o-D3ZQBkiMRfA   \n",
      "3  Sx8TMOWLNuJBWer-0pcmoA  bcjbaE6dDog4jkNY91ncLQ  e4Vwtrqf-wpJfwesgvdgxQ   \n",
      "4  JrIxlS1TzJ-iCu79ul40cQ  eUta8W_HdHMXPzLBBZhL1A  04UD14gamNjLY0IDYVhHJg   \n",
      "\n",
      "   review_stars  useful  funny  cool  \\\n",
      "0             3       0      0     0   \n",
      "1             5       1      0     1   \n",
      "2             5       1      0     1   \n",
      "3             4       1      0     1   \n",
      "4             1       1      2     1   \n",
      "\n",
      "                                                text          review_date  \\\n",
      "0  If you decide to eat here, just be aware it is...  2018-07-07 22:09:11   \n",
      "1  I've taken a lot of spin classes over the year...  2012-01-03 15:28:18   \n",
      "2  Wow!  Yummy, different,  delicious.   Our favo...  2015-01-04 00:01:03   \n",
      "3  Cute interior and owner (?) gave us tour of up...  2017-01-14 20:54:15   \n",
      "4  I am a long term frequent customer of this est...  2015-09-23 23:10:31   \n",
      "\n",
      "                  business_name  ... state postal_code   latitude  longitude  \\\n",
      "0  Turning Point of North Wales  ...    PA       19454  40.210196 -75.223639   \n",
      "1    Body Cycle Spinning Studio  ...    PA       19119  39.952103 -75.172753   \n",
      "2                         Zaika  ...    PA       19114  40.079848 -75.025080   \n",
      "3                          Melt  ...    LA       70119  29.962102 -90.087958   \n",
      "4                      Dmitri's  ...    PA       19147  39.938013 -75.148131   \n",
      "\n",
      "   business_stars  business_review_count  is_open  \\\n",
      "0             3.0                  169.0      1.0   \n",
      "1             5.0                  144.0      0.0   \n",
      "2             4.0                  181.0      1.0   \n",
      "3             4.0                   32.0      0.0   \n",
      "4             4.0                  273.0      0.0   \n",
      "\n",
      "                                 business_attributes  \\\n",
      "0  {'NoiseLevel': \"u'average'\", 'HasTV': 'False',...   \n",
      "1  {'BusinessAcceptsCreditCards': 'True', 'GoodFo...   \n",
      "2  {'Caters': 'True', 'Ambience': \"{'romantic': F...   \n",
      "3  {'BusinessParking': \"{'garage': False, 'street...   \n",
      "4  {'BusinessParking': \"{'garage': False, 'street...   \n",
      "\n",
      "                                 business_categories  \\\n",
      "0  Restaurants, Breakfast & Brunch, Food, Juice B...   \n",
      "1  Active Life, Cycling Classes, Trainers, Gyms, ...   \n",
      "2              Halal, Pakistani, Restaurants, Indian   \n",
      "3  Sandwiches, Beer, Wine & Spirits, Bars, Food, ...   \n",
      "4         Mediterranean, Restaurants, Seafood, Greek   \n",
      "\n",
      "                                      business_hours  \n",
      "0  {'Monday': '7:30-15:0', 'Tuesday': '7:30-15:0'...  \n",
      "1  {'Monday': '6:30-20:30', 'Tuesday': '6:30-20:3...  \n",
      "2  {'Tuesday': '11:0-21:0', 'Wednesday': '11:0-21...  \n",
      "3  {'Monday': '0:0-0:0', 'Friday': '11:0-17:0', '...  \n",
      "4  {'Wednesday': '17:30-21:0', 'Thursday': '17:30...  \n",
      "\n",
      "[5 rows x 22 columns]\n"
     ]
    }
   ],
   "source": [
    "import pandas as pd\n",
    "df = pd.read_csv('MergedandCleaned1.csv')\n",
    "print(df.head())"
   ]
  },
  {
   "cell_type": "code",
   "execution_count": 3,
   "id": "7aeb2194",
   "metadata": {},
   "outputs": [
    {
     "name": "stdout",
     "output_type": "stream",
     "text": [
      "Index(['review_id', 'user_id', 'business_id', 'review_stars', 'useful',\n",
      "       'funny', 'cool', 'text', 'review_date', 'business_name', 'address',\n",
      "       'city', 'state', 'postal_code', 'latitude', 'longitude',\n",
      "       'business_stars', 'business_review_count', 'is_open',\n",
      "       'business_attributes', 'business_categories', 'business_hours'],\n",
      "      dtype='object')\n"
     ]
    }
   ],
   "source": [
    "print(df.columns)"
   ]
  },
  {
   "cell_type": "code",
   "execution_count": 7,
   "id": "9c85fc9c",
   "metadata": {},
   "outputs": [
    {
     "name": "stdout",
     "output_type": "stream",
     "text": [
      "address    106\n",
      "dtype: int64\n"
     ]
    }
   ],
   "source": [
    "missing_values = df.isnull().sum()\n",
    "print(missing_values[missing_values > 0])"
   ]
  },
  {
   "cell_type": "code",
   "execution_count": 8,
   "id": "27660463",
   "metadata": {},
   "outputs": [
    {
     "name": "stdout",
     "output_type": "stream",
     "text": [
      "Index(['review_id', 'user_id', 'business_id', 'review_stars', 'useful',\n",
      "       'funny', 'cool', 'text', 'review_date', 'business_name', 'city',\n",
      "       'state', 'postal_code', 'latitude', 'longitude', 'business_stars',\n",
      "       'business_review_count', 'is_open', 'business_attributes',\n",
      "       'business_categories', 'business_hours'],\n",
      "      dtype='object')\n"
     ]
    }
   ],
   "source": [
    "df_cleaned = df.drop(columns=['address'])\n",
    "print(df_cleaned.columns)"
   ]
  },
  {
   "cell_type": "code",
   "execution_count": 9,
   "id": "d8a17ee8",
   "metadata": {},
   "outputs": [
    {
     "name": "stdout",
     "output_type": "stream",
     "text": [
      "review_id                0\n",
      "user_id                  0\n",
      "business_id              0\n",
      "review_stars             0\n",
      "useful                   0\n",
      "funny                    0\n",
      "cool                     0\n",
      "text                     0\n",
      "review_date              0\n",
      "business_name            0\n",
      "city                     0\n",
      "state                    0\n",
      "postal_code              0\n",
      "latitude                 0\n",
      "longitude                0\n",
      "business_stars           0\n",
      "business_review_count    0\n",
      "is_open                  0\n",
      "business_attributes      0\n",
      "business_categories      0\n",
      "business_hours           0\n",
      "dtype: int64\n"
     ]
    }
   ],
   "source": [
    "missing_values = df_cleaned.isnull().sum()\n",
    "print(missing_values)\n"
   ]
  },
  {
   "cell_type": "code",
   "execution_count": 10,
   "id": "d195ec14",
   "metadata": {},
   "outputs": [
    {
     "name": "stdout",
     "output_type": "stream",
     "text": [
      "review_id                  0\n",
      "user_id                    0\n",
      "business_id                0\n",
      "review_stars               0\n",
      "useful                     0\n",
      "funny                      0\n",
      "cool                       0\n",
      "text                       0\n",
      "review_date                0\n",
      "business_name              0\n",
      "address                  106\n",
      "city                       0\n",
      "state                      0\n",
      "postal_code                0\n",
      "latitude                   0\n",
      "longitude                  0\n",
      "business_stars             0\n",
      "business_review_count      0\n",
      "is_open                    0\n",
      "business_attributes        0\n",
      "business_categories        0\n",
      "business_hours             0\n",
      "dtype: int64\n"
     ]
    }
   ],
   "source": [
    "missing_values = df.isnull().sum()\n",
    "print(missing_values)\n"
   ]
  },
  {
   "cell_type": "code",
   "execution_count": 11,
   "id": "7d3528f5",
   "metadata": {},
   "outputs": [],
   "source": [
    "df['address'].fillna('Unknown', inplace=True)\n"
   ]
  },
  {
   "cell_type": "code",
   "execution_count": 12,
   "id": "4d569121",
   "metadata": {},
   "outputs": [
    {
     "name": "stdout",
     "output_type": "stream",
     "text": [
      "review_id                 object\n",
      "user_id                   object\n",
      "business_id               object\n",
      "review_stars               int64\n",
      "useful                     int64\n",
      "funny                      int64\n",
      "cool                       int64\n",
      "text                      object\n",
      "review_date               object\n",
      "business_name             object\n",
      "city                      object\n",
      "state                     object\n",
      "postal_code               object\n",
      "latitude                 float64\n",
      "longitude                float64\n",
      "business_stars           float64\n",
      "business_review_count    float64\n",
      "is_open                  float64\n",
      "business_attributes       object\n",
      "business_categories       object\n",
      "business_hours            object\n",
      "dtype: object\n"
     ]
    }
   ],
   "source": [
    "print(df_cleaned.dtypes)"
   ]
  },
  {
   "cell_type": "code",
   "execution_count": 13,
   "id": "8e08a8fd",
   "metadata": {},
   "outputs": [
    {
     "name": "stdout",
     "output_type": "stream",
     "text": [
      "is_open                 int32\n",
      "review_date    datetime64[ns]\n",
      "dtype: object\n"
     ]
    }
   ],
   "source": [
    "df_cleaned['is_open'] = df_cleaned['is_open'].astype(int)\n",
    "df_cleaned['review_date'] = pd.to_datetime(df_cleaned['review_date'])\n",
    "print(df_cleaned[['is_open', 'review_date']].dtypes)"
   ]
  },
  {
   "cell_type": "code",
   "execution_count": 14,
   "id": "b6c3075e",
   "metadata": {},
   "outputs": [
    {
     "name": "stdout",
     "output_type": "stream",
     "text": [
      "  garage street    lot  valet\n",
      "0  False  False   True  False\n",
      "1  False   True  False  False\n",
      "2  False  False   True  False\n",
      "3  False   True  False  False\n",
      "4  False   True  False  False\n"
     ]
    }
   ],
   "source": [
    "import ast\n",
    "\n",
    "\n",
    "def extract_parking_feature(attributes, feature):\n",
    "    if pd.isna(attributes):\n",
    "        return 0 \n",
    "    try:\n",
    "        attributes_dict = ast.literal_eval(attributes)  \n",
    "        if isinstance(attributes_dict, dict) and 'BusinessParking' in attributes_dict:\n",
    "            parking_dict = ast.literal_eval(attributes_dict['BusinessParking'])\n",
    "            if isinstance(parking_dict, dict):\n",
    "                return parking_dict.get(feature, 0)\n",
    "    except (ValueError, SyntaxError, TypeError):\n",
    "        return 0 \n",
    "    return 0\n",
    "\n",
    "df_cleaned['garage'] = df_cleaned['business_attributes'].apply(lambda x: extract_parking_feature(x, 'garage'))\n",
    "df_cleaned['street'] = df_cleaned['business_attributes'].apply(lambda x: extract_parking_feature(x, 'street'))\n",
    "df_cleaned['lot'] = df_cleaned['business_attributes'].apply(lambda x: extract_parking_feature(x, 'lot'))\n",
    "df_cleaned['valet'] = df_cleaned['business_attributes'].apply(lambda x: extract_parking_feature(x, 'valet'))\n",
    "\n",
    "print(df_cleaned[['garage', 'street', 'lot', 'valet']].head())\n"
   ]
  },
  {
   "cell_type": "code",
   "execution_count": 15,
   "id": "5ce06939",
   "metadata": {},
   "outputs": [
    {
     "name": "stdout",
     "output_type": "stream",
     "text": [
      "  garage street    lot  valet  is_open  business_review_count   latitude  \\\n",
      "0  False  False   True  False        1                  169.0  40.210196   \n",
      "1  False   True  False  False        0                  144.0  39.952103   \n",
      "2  False  False   True  False        1                  181.0  40.079848   \n",
      "3  False   True  False  False        0                   32.0  29.962102   \n",
      "4  False   True  False  False        0                  273.0  39.938013   \n",
      "\n",
      "   longitude  \n",
      "0 -75.223639  \n",
      "1 -75.172753  \n",
      "2 -75.025080  \n",
      "3 -90.087958  \n",
      "4 -75.148131  \n"
     ]
    }
   ],
   "source": [
    "df_final = df_cleaned.drop(columns=['business_attributes'])\n",
    "final_features = ['garage', 'street', 'lot', 'valet', 'is_open', 'business_review_count', 'latitude', 'longitude']\n",
    "X = df_final[final_features]\n",
    "print(X.head())"
   ]
  },
  {
   "cell_type": "code",
   "execution_count": 21,
   "id": "55c53fec",
   "metadata": {},
   "outputs": [
    {
     "name": "stdout",
     "output_type": "stream",
     "text": [
      "[False True]\n"
     ]
    }
   ],
   "source": [
    "print(df_cleaned['valet'].unique())"
   ]
  },
  {
   "cell_type": "code",
   "execution_count": 22,
   "id": "45f8538d",
   "metadata": {},
   "outputs": [
    {
     "name": "stdout",
     "output_type": "stream",
     "text": [
      "Accuracy: 0.9974955277280859\n",
      "Classification Report:\n",
      "              precision    recall  f1-score   support\n",
      "\n",
      "           0       1.00      1.00      1.00      5220\n",
      "           1       1.00      0.96      0.98       370\n",
      "\n",
      "    accuracy                           1.00      5590\n",
      "   macro avg       1.00      0.98      0.99      5590\n",
      "weighted avg       1.00      1.00      1.00      5590\n",
      "\n",
      "Model saved as 'parking_xgboost_model.pkl'\n"
     ]
    },
    {
     "name": "stderr",
     "output_type": "stream",
     "text": [
      "C:\\Users\\dharm\\AppData\\Roaming\\Python\\Python311\\site-packages\\xgboost\\core.py:158: UserWarning: [18:00:58] WARNING: C:\\buildkite-agent\\builds\\buildkite-windows-cpu-autoscaling-group-i-0015a694724fa8361-1\\xgboost\\xgboost-ci-windows\\src\\learner.cc:740: \n",
      "Parameters: { \"use_label_encoder\" } are not used.\n",
      "\n",
      "  warnings.warn(smsg, UserWarning)\n"
     ]
    }
   ],
   "source": [
    "import xgboost as xgb\n",
    "from sklearn.model_selection import train_test_split\n",
    "from sklearn.metrics import accuracy_score, classification_report\n",
    "import joblib\n",
    "\n",
    "df_cleaned['valet'] = df_cleaned['valet'].astype(int)\n",
    "\n",
    "X = df_cleaned[['latitude', 'longitude', 'business_review_count', 'is_open']] \n",
    "y = df_cleaned['valet'] \n",
    "X_train, X_test, y_train, y_test = train_test_split(X, y, test_size=0.3, random_state=42)\n",
    "xgb_model = xgb.XGBClassifier(use_label_encoder=False, eval_metric='logloss', random_state=42)\n",
    "xgb_model.fit(X_train, y_train)\n",
    "y_pred = xgb_model.predict(X_test)\n",
    "\n",
    "accuracy = accuracy_score(y_test, y_pred)\n",
    "report = classification_report(y_test, y_pred)\n",
    "\n",
    "print(f\"Accuracy: {accuracy}\")\n",
    "print(f\"Classification Report:\\n{report}\")\n",
    "\n",
    "joblib.dump(xgb_model, 'parking_xgboost_model.pkl')\n",
    "print(\"Model saved as 'parking_xgboost_model.pkl'\")"
   ]
  },
  {
   "cell_type": "code",
   "execution_count": null,
   "id": "b909a484",
   "metadata": {},
   "outputs": [],
   "source": []
  }
 ],
 "metadata": {
  "kernelspec": {
   "display_name": "Python 3 (ipykernel)",
   "language": "python",
   "name": "python3"
  },
  "language_info": {
   "codemirror_mode": {
    "name": "ipython",
    "version": 3
   },
   "file_extension": ".py",
   "mimetype": "text/x-python",
   "name": "python",
   "nbconvert_exporter": "python",
   "pygments_lexer": "ipython3",
   "version": "3.11.4"
  }
 },
 "nbformat": 4,
 "nbformat_minor": 5
}
